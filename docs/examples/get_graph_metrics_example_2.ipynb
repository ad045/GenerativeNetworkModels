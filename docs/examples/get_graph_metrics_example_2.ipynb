{
 "cells": [
  {
   "cell_type": "markdown",
   "metadata": {},
   "source": [
    "## Getting graph metrics using the GNM Toolbox"
   ]
  },
  {
   "cell_type": "code",
   "execution_count": 1,
   "metadata": {},
   "outputs": [],
   "source": [
    "import os\n",
    "notebook_dir = os.getcwd() \n",
    "\n",
    "import sys\n",
    "loc = os.path.abspath(os.path.join(notebook_dir, '..', '..', 'src'))\n",
    "sys.path.append(loc)\n",
    "\n",
    "import time\n",
    "import torch\n",
    "from gnm import *\n",
    "from gnm import defaults\n",
    "\n",
    "DEVICE = torch.device(\"cuda:0\" if torch.cuda.is_available() else \"cpu\")\n",
    "\n",
    "# binary_consensus_network = defaults.get_binary_network(device=DEVICE)\n",
    "\n",
    "# distance_matrix = torch.load(\"/Users/adrian/Documents/01_projects/14_4D_lab/src/imported_libraries/GenerativeNetworkModels_2/src/gnm/defaults/distance_matrices/AAL_DISTANCES.pt\")\n",
    "binary_consensus_network = torch.load(\"/Users/adrian/Documents/01_projects/14_4D_lab/src/imported_libraries/GenerativeNetworkModels_2/src/gnm/defaults/binary_networks/CALM_BINARY_CONSENSUS.pt\")\n",
    "# weighted_consensus_network = torch.load(\"/Users/adrian/Documents/01_projects/14_4D_lab/src/imported_libraries/GenerativeNetworkModels_2/src/gnm/defaults/weighted_networks/CALM_WEIGHTED_CONSENSUS.pt\")\n"
   ]
  },
  {
   "cell_type": "markdown",
   "metadata": {},
   "source": [
    "Here, we show the benefit of using GNM Toolbox over alternative BCT package for calculating betweenness centrality"
   ]
  },
  {
   "cell_type": "code",
   "execution_count": 2,
   "metadata": {},
   "outputs": [
    {
     "name": "stdout",
     "output_type": "stream",
     "text": [
      "Repeated network shape:  torch.Size([100, 90, 90])\n",
      "Betweenness GNM time:  0.8584978580474854\n",
      "Betweenness BCT time:  0.09143400192260742\n"
     ]
    }
   ],
   "source": [
    "from gnm.utils import binary_betweenness_centrality, binary_clustering_coefficients, binary_characteristic_path_length\n",
    "import bct\n",
    "import time\n",
    "import networkx as nx\n",
    "\n",
    "# create 100 iterations of the same network\n",
    "repeated_network = torch.repeat_interleave(binary_consensus_network, 100, dim=0)\n",
    "repeated_network_np = repeated_network.detach().cpu().numpy()\n",
    "print(\"Repeated network shape: \", repeated_network.shape)\n",
    "\n",
    "# calculate betweenness centrality using gnm\n",
    "start = time.time()\n",
    "betweenness = binary_betweenness_centrality(repeated_network)\n",
    "end = time.time()\n",
    "print(\"Betweenness GNM time: \", end - start)\n",
    "\n",
    "# calculate betweenness centrality using bct\n",
    "start = time.time()\n",
    "for i in range(repeated_network_np.shape[0]):\n",
    "    network = repeated_network_np[i:i+1].reshape(repeated_network.shape[1], repeated_network.shape[2])\n",
    "    betweenness = bct.betweenness_bin(network)\n",
    "end = time.time()\n",
    "print(\"Betweenness BCT time: \", end - start)\n"
   ]
  }
 ],
 "metadata": {
  "kernelspec": {
   "display_name": "ma_thesis",
   "language": "python",
   "name": "python3"
  },
  "language_info": {
   "codemirror_mode": {
    "name": "ipython",
    "version": 3
   },
   "file_extension": ".py",
   "mimetype": "text/x-python",
   "name": "python",
   "nbconvert_exporter": "python",
   "pygments_lexer": "ipython3",
   "version": "3.13.5"
  }
 },
 "nbformat": 4,
 "nbformat_minor": 2
}
