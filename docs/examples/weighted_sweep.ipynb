{
 "cells": [
  {
   "cell_type": "markdown",
   "metadata": {},
   "source": [
    "# Weighted Sweep Example Script\n",
    "<p>Here, we sweep over the alpha parameter, which is the value that determines communicability in a weighted GNM</p>"
   ]
  },
  {
   "cell_type": "code",
   "execution_count": 2,
   "metadata": {},
   "outputs": [],
   "source": [
    "# basic imports from within the package plus torch and time\n",
    "from gnm import defaults, utils, fitting, generative_rules, weight_criteria, evaluation\n",
    "import torch\n",
    "import time\n",
    "import numpy as np\n",
    "\n",
    "# Remember, the device is the hardware on which the code will run. Use a GPU for speed if \n",
    "# you have one, as this utlizes parallelization (running lots of models at the same time).\n",
    "DEVICE = torch.device(\"cuda:0\" if torch.cuda.is_available() else \"cpu\")\n",
    "\n",
    "# load the example data\n",
    "distance_matrix = defaults.get_distance_matrix(device=DEVICE)\n",
    "weighted_consensus_network = defaults.get_weighted_network(device=DEVICE)\n",
    "binary_consensus_network = defaults.get_binary_network(device=DEVICE)"
   ]
  },
  {
   "cell_type": "markdown",
   "metadata": {},
   "source": [
    "## Parameter setting + Defining the Sweep"
   ]
  },
  {
   "cell_type": "code",
   "execution_count": null,
   "metadata": {},
   "outputs": [
    {
     "name": "stdout",
     "output_type": "stream",
     "text": [
      "The weighted consensus network contains 400 connections.\n"
     ]
    }
   ],
   "source": [
    "# set fixed eta and gamma - usually you'd want to sweep through these too but here we will keep them\n",
    "# constant for ease of testing\n",
    "eta = torch.Tensor([-0.1])\n",
    "gamma = torch.Tensor([0.1])\n",
    "\n",
    "# set space for weighted sweep - test for 2x2x2 grid search,\n",
    "# uncomment np.linspace for a more extensive search\n",
    "alpha_values = [1, 2, 3] # np.linspace(-1, 1, 0.1)\n",
    "omega_values = [1, 2, 3] # np.linspace(-1, 1, 0.1)\n",
    "\n",
    "# define the number of simulations we want to run\n",
    "num_simulations = 100\n",
    "\n",
    "# set the number of connections - remember to count per connection without weight initially\n",
    "num_connections = int( torch.where(weighted_consensus_network > 1, 1, 0).sum().item() / 2 )\n",
    "print(f\"The weighted consensus network contains {num_connections} connections.\")"
   ]
  },
  {
   "cell_type": "code",
   "execution_count": null,
   "metadata": {},
   "outputs": [],
   "source": [
    "# Even though we're running a weighted model, this operates on top of a binary network so we\n",
    "# must define the binary sweep parameters too. \n",
    "binary_sweep_parameters = fitting.BinarySweepParameters(\n",
    "    eta = eta,\n",
    "    gamma = gamma,\n",
    "    lambdah = torch.Tensor([0.0]),\n",
    "    distance_relationship_type = [\"powerlaw\"],\n",
    "    preferential_relationship_type = [\"powerlaw\"],\n",
    "    heterochronicity_relationship_type = [\"powerlaw\"],\n",
    "    generative_rule = [generative_rules.MatchingIndex()],\n",
    "    num_iterations = [num_connections],\n",
    ")\n",
    "\n",
    "# we create a set of optimization criteria using our many alpha values - the question\n",
    "# we're asking here is 'What is the optimium level of communicability that best matches the \n",
    "# given real life connectome?'\n",
    "weighted_sweep_parameters = fitting.WeightedSweepParameters(\n",
    "    alpha = alpha_values,\n",
    "    optimisation_criterion = [ \n",
    "        weight_criteria.DistanceWeightedCommunicability(distance_matrix=distance_matrix, omega=omega_value)\n",
    "        for omega_value in omega_values],\n",
    ")\n",
    "\n",
    "# Now we define the sweep configuation - this allows for running through every single combination \n",
    "# of parameters and saving the results.\n",
    "sweep_config = fitting.SweepConfig(\n",
    "    binary_sweep_parameters = binary_sweep_parameters,\n",
    "    weighted_sweep_parameters = weighted_sweep_parameters,\n",
    "    num_simulations = num_simulations,\n",
    "    distance_matrix = [distance_matrix],\n",
    ")"
   ]
  },
  {
   "cell_type": "code",
   "execution_count": null,
   "metadata": {},
   "outputs": [],
   "source": [
    "# Create our evaluation critereon - this tells you how close the generative model \n",
    "# is to your actual connectome in terms of a given set of topological or topographical \n",
    "# criteria - in this case, we use the KS Statistic to compare clustering, degree, and edge length\n",
    "\n",
    "# binary evaluations\n",
    "criteria = [ evaluation.ClusteringKS(), evaluation.DegreeKS(), evaluation.EdgeLengthKS(distance_matrix) ]\n",
    "energy_equation = evaluation.MaxCriteria( criteria )\n",
    "binary_evaluations = [energy_equation]\n",
    "\n",
    "# weighted evaluations\n",
    "weighted_evaluations = [ evaluation.WeightedNodeStrengthKS(normalise=True), evaluation.WeightedClusteringKS() ]\n"
   ]
  },
  {
   "cell_type": "markdown",
   "metadata": {},
   "source": [
    "Perform the sweep"
   ]
  },
  {
   "cell_type": "code",
   "execution_count": null,
   "metadata": {},
   "outputs": [
    {
     "name": "stderr",
     "output_type": "stream",
     "text": [
      "Configuration Iterations: 100%|██████████| 9/9 [01:17<00:00,  8.58s/it]\n"
     ]
    }
   ],
   "source": [
    "# so we can see how long the sweep takes, we can start a timer\n",
    "# and stop it when the sweep is finished\n",
    "start_time = time.perf_counter()\n",
    "\n",
    "# Given all our parameter configurations, we can now run the sweep.\n",
    "# This will take a minute, so be patient.\n",
    "experiments = fitting.perform_sweep(\n",
    "    sweep_config=sweep_config, \n",
    "    binary_evaluations=binary_evaluations, \n",
    "    real_binary_matrices=binary_consensus_network,\n",
    "    real_weighted_matrices=weighted_consensus_network,\n",
    "    weighted_evaluations=weighted_evaluations,\n",
    "    save_model = False,\n",
    "    save_run_history = False, \n",
    "    verbose=True # set this to True if you want to see a progress bar below\n",
    ")\n",
    "\n",
    "# end the timer\n",
    "end_time = time.perf_counter()"
   ]
  },
  {
   "cell_type": "code",
   "execution_count": null,
   "metadata": {},
   "outputs": [
    {
     "name": "stdout",
     "output_type": "stream",
     "text": [
      "Sweep took 77.251 seconds.\n",
      "Total number of simulations: 900\n",
      "Average time per simulation: 0.086 seconds.\n"
     ]
    }
   ],
   "source": [
    "# now we can see how long the sweep took\n",
    "\n",
    "print(f\"Sweep took {end_time - start_time:0.3f} seconds.\")\n",
    "\n",
    "total_simulations = num_simulations * len(alpha_values) * len(omega_values)\n",
    "\n",
    "print(f\"Total number of simulations: {total_simulations}\")\n",
    "\n",
    "print(f\"Average time per simulation: {(end_time - start_time) / total_simulations:0.3f} seconds.\")"
   ]
  }
 ],
 "metadata": {
  "kernelspec": {
   "display_name": "Python 3",
   "language": "python",
   "name": "python3"
  },
  "language_info": {
   "codemirror_mode": {
    "name": "ipython",
    "version": 3
   },
   "file_extension": ".py",
   "mimetype": "text/x-python",
   "name": "python",
   "nbconvert_exporter": "python",
   "pygments_lexer": "ipython3",
   "version": "3.9.21"
  }
 },
 "nbformat": 4,
 "nbformat_minor": 2
}
